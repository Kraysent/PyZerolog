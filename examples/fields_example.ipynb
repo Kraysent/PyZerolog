{
 "cells": [
  {
   "cell_type": "markdown",
   "metadata": {},
   "source": [
    "The simplest message can be obtained as easy as:"
   ]
  },
  {
   "cell_type": "code",
   "execution_count": 1,
   "metadata": {},
   "outputs": [
    {
     "name": "stdout",
     "output_type": "stream",
     "text": [
      "{\"level\": \"info\", \"message\": \"Some logging message\", \"timestamp\": \"2022-08-01T09:38:10.527771\"}\n"
     ]
    }
   ],
   "source": [
    "from zlog import logger\n",
    "\n",
    "logger.info().msg(\"Some logging message\")"
   ]
  },
  {
   "cell_type": "markdown",
   "metadata": {},
   "source": [
    "You can add custom fields of any basic type to any of your messages:"
   ]
  },
  {
   "cell_type": "code",
   "execution_count": 4,
   "metadata": {},
   "outputs": [
    {
     "name": "stdout",
     "output_type": "stream",
     "text": [
      "{\"fields\": {\"string_key\": \"value\"}, \"level\": \"info\", \"message\": \"Message with string\", \"timestamp\": \"2022-07-22T21:58:56.929238\"}\n",
      "{\"fields\": {\"integer_key\": 123}, \"level\": \"info\", \"message\": \"Message with int\", \"timestamp\": \"2022-07-22T21:58:56.930486\"}\n",
      "{\"fields\": {\"another_key\": 5, \"some_key\": \"example\"}, \"level\": \"info\", \"message\": \"Message with int and string\", \"timestamp\": \"2022-07-22T21:58:56.930695\"}\n",
      "{\"fields\": {\"attempt\": 8, \"is_valid\": true, \"login\": \"super_user\"}, \"level\": \"info\", \"message\": \"Some logging data about the user\", \"timestamp\": \"2022-07-22T21:58:56.930921\"}\n"
     ]
    }
   ],
   "source": [
    "from zlog import logger\n",
    "\n",
    "logger.info().string(\"string_key\", \"value\").msg(\"Message with string\")\n",
    "logger.info().int(\"integer_key\", 123).msg(\"Message with int\")\n",
    "logger.info().string(\"some_key\", \"example\").int(\"another_key\", 5).msg(\"Message with int and string\")\n",
    "logger.info().bool(\"is_valid\", True).string(\"login\", \"super_user\").int(\"attempt\", 8).msg(\"Some logging data about the user\")"
   ]
  },
  {
   "cell_type": "markdown",
   "metadata": {},
   "source": [
    "You can add some basic settings to your logger:"
   ]
  },
  {
   "cell_type": "code",
   "execution_count": 2,
   "metadata": {},
   "outputs": [
    {
     "name": "stdout",
     "output_type": "stream",
     "text": [
      "{\"level\": \"debug\", \"message\": \"And this would, so say something nice.\", \"timestamp\": \"2022-08-01T09:38:17.351520\"}\n"
     ]
    }
   ],
   "source": [
    "from zlog import logger, Level\n",
    "\n",
    "logger.base_level = Level.INFO\n",
    "logger.debug().msg(\"This message would not be printed.\")\n",
    "logger.base_level = Level.DEBUG\n",
    "logger.debug().msg(\"And this would, so say something nice.\")"
   ]
  },
  {
   "cell_type": "code",
   "execution_count": 3,
   "metadata": {},
   "outputs": [
    {
     "name": "stdout",
     "output_type": "stream",
     "text": [
      "{\"level\": \"info\", \"message\": \"This message would be in one line.\", \"timestamp\": \"2022-08-01T09:38:22.718897\"}\n",
      "{\"level\": \"info\", \"message\": \"And this would have some nice formatting.\", \"timestamp\": \"2022-08-01T09:38:22.719350\"}\n"
     ]
    }
   ],
   "source": [
    "from zlog import logger\n",
    "\n",
    "logger.prettify = False\n",
    "logger.info().msg(\"This message would be in one line.\")\n",
    "logger.prettify = True\n",
    "logger.info().msg(\"And this would have some nice formatting.\")"
   ]
  },
  {
   "cell_type": "markdown",
   "metadata": {},
   "source": [
    "You can also change the formatting style to `ConsoleFormatter` which looks more convinient when using terminal:"
   ]
  },
  {
   "cell_type": "code",
   "execution_count": 2,
   "metadata": {},
   "outputs": [
    {
     "name": "stdout",
     "output_type": "stream",
     "text": [
      "\u001b[93m20:51\u001b[0m\u001b[36m DBG\u001b[0m Convinient one-liner message \u001b[93mandroid\u001b[0m=iphone \u001b[93merror\u001b[0m=False\n",
      "\u001b[93m20:51\u001b[0m\u001b[92m INF\u001b[0m Convinient one-liner message \u001b[93mandroid\u001b[0m=iphone \u001b[93merror\u001b[0m=False\n",
      "\u001b[93m20:51\u001b[0m\u001b[91m WRN\u001b[0m Convinient one-liner message \u001b[93mandroid\u001b[0m=iphone \u001b[93merror\u001b[0m=False\n",
      "\u001b[93m20:51\u001b[0m\u001b[95m ERR\u001b[0m Convinient one-liner message \u001b[93mandroid\u001b[0m=iphone \u001b[93merror\u001b[0m=False\n",
      "\u001b[93m20:51\u001b[0m\u001b[93m FTL\u001b[0m Convinient one-liner message \u001b[93mandroid\u001b[0m=iphone \u001b[93merror\u001b[0m=False\n"
     ]
    }
   ],
   "source": [
    "from zlog import logger, ConsoleFormatter, Level\n",
    "\n",
    "logger.formatted_streams[0].formatter = ConsoleFormatter()\n",
    "logger.base_level = Level.DEBUG\n",
    "logger.debug().string(\"android\", \"iphone\").bool(\"error\", False).msg(\"Convinient one-liner message\")\n",
    "logger.info().string(\"android\", \"iphone\").bool(\"error\", False).msg(\"Convinient one-liner message\")\n",
    "logger.warn().string(\"android\", \"iphone\").bool(\"error\", False).msg(\"Convinient one-liner message\")\n",
    "logger.error().string(\"android\", \"iphone\").bool(\"error\", False).msg(\"Convinient one-liner message\")\n",
    "logger.fatal().string(\"android\", \"iphone\").bool(\"error\", False).msg(\"Convinient one-liner message\")"
   ]
  }
 ],
 "metadata": {
  "kernelspec": {
   "display_name": "Python 3.10.5 ('pyzerolog')",
   "language": "python",
   "name": "python3"
  },
  "language_info": {
   "codemirror_mode": {
    "name": "ipython",
    "version": 3
   },
   "file_extension": ".py",
   "mimetype": "text/x-python",
   "name": "python",
   "nbconvert_exporter": "python",
   "pygments_lexer": "ipython3",
   "version": "3.10.5"
  },
  "orig_nbformat": 4,
  "vscode": {
   "interpreter": {
    "hash": "c0e62dcdfe71dc4914890f5b9742ce83b3e049fb94e7d88d44f3c18c72dab831"
   }
  }
 },
 "nbformat": 4,
 "nbformat_minor": 2
}
