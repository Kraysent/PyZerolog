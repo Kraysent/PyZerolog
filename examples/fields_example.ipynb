{
 "cells": [
  {
   "cell_type": "markdown",
   "metadata": {},
   "source": [
    "The simplest message can be got as easy as:"
   ]
  },
  {
   "cell_type": "code",
   "execution_count": 2,
   "metadata": {},
   "outputs": [
    {
     "name": "stderr",
     "output_type": "stream",
     "text": [
      "{\"level\": \"info\", \"message\": \"Some logging message\", \"timestamp\": \"2022-07-22T14:21:20.617991\"}\n"
     ]
    }
   ],
   "source": [
    "from zlog import logger\n",
    "\n",
    "logger.info().msg(\"Some logging message\")"
   ]
  },
  {
   "cell_type": "markdown",
   "metadata": {},
   "source": [
    "You can add custom fields of any basic type to any of your messages:"
   ]
  },
  {
   "cell_type": "code",
   "execution_count": 1,
   "metadata": {},
   "outputs": [
    {
     "name": "stderr",
     "output_type": "stream",
     "text": [
      "{\"fields\": {\"string_key\": \"value\"}, \"level\": \"info\", \"message\": \"Message with string\", \"timestamp\": \"2022-07-22T21:02:12.518430\"}\n",
      "{\"fields\": {\"integer_key\": 123}, \"level\": \"info\", \"message\": \"Message with int\", \"timestamp\": \"2022-07-22T21:02:12.520051\"}\n",
      "{\"fields\": {\"another_key\": 5, \"some_key\": \"example\"}, \"level\": \"info\", \"message\": \"Message with int and string\", \"timestamp\": \"2022-07-22T21:02:12.521758\"}\n",
      "{\"fields\": {\"attempt\": 8, \"is_valid\": true, \"login\": \"super_user\"}, \"level\": \"info\", \"message\": \"Some logging data about the user\", \"timestamp\": \"2022-07-22T21:02:12.523155\"}\n"
     ]
    }
   ],
   "source": [
    "from zlog import logger\n",
    "\n",
    "logger.info().string(\"string_key\", \"value\").msg(\"Message with string\")\n",
    "logger.info().int(\"integer_key\", 123).msg(\"Message with int\")\n",
    "logger.info().string(\"some_key\", \"example\").int(\"another_key\", 5).msg(\"Message with int and string\")\n",
    "logger.info().bool(\"is_valid\", True).string(\"login\", \"super_user\").int(\"attempt\", 8).msg(\"Some logging data about the user\")"
   ]
  },
  {
   "cell_type": "markdown",
   "metadata": {},
   "source": [
    "You can add some basic settings to your logger:"
   ]
  },
  {
   "cell_type": "code",
   "execution_count": 10,
   "metadata": {},
   "outputs": [
    {
     "name": "stdout",
     "output_type": "stream",
     "text": [
      "{\"level\": \"debug\", \"message\": \"And this would, so say something nice.\", \"timestamp\": \"2022-07-22T21:06:47.696323\"}\n"
     ]
    }
   ],
   "source": [
    "from zlog import logger, Logger, Level\n",
    "\n",
    "logger.base_level = Level.INFO\n",
    "logger.debug().msg(\"This message would not be printed.\")\n",
    "logger.base_level = Level.DEBUG\n",
    "logger.debug().msg(\"And this would, so say something nice.\")"
   ]
  },
  {
   "cell_type": "code",
   "execution_count": 11,
   "metadata": {},
   "outputs": [
    {
     "name": "stdout",
     "output_type": "stream",
     "text": [
      "{\"level\": \"info\", \"message\": \"This message would be in one line.\", \"timestamp\": \"2022-07-22T21:07:31.438997\"}\n",
      "{\n",
      "  \"level\": \"info\",\n",
      "  \"message\": \"And this would have some nice formatting.\",\n",
      "  \"timestamp\": \"2022-07-22T21:07:31.440501\"\n",
      "}\n"
     ]
    }
   ],
   "source": [
    "from zlog import logger, Logger, Level\n",
    "\n",
    "logger.prettify = False\n",
    "logger.info().msg(\"This message would be in one line.\")\n",
    "logger.prettify = True\n",
    "logger.info().msg(\"And this would have some nice formatting.\")"
   ]
  }
 ],
 "metadata": {
  "kernelspec": {
   "display_name": "Python 3.10.5 ('pyzerolog')",
   "language": "python",
   "name": "python3"
  },
  "language_info": {
   "codemirror_mode": {
    "name": "ipython",
    "version": 3
   },
   "file_extension": ".py",
   "mimetype": "text/x-python",
   "name": "python",
   "nbconvert_exporter": "python",
   "pygments_lexer": "ipython3",
   "version": "3.10.5"
  },
  "orig_nbformat": 4,
  "vscode": {
   "interpreter": {
    "hash": "c0e62dcdfe71dc4914890f5b9742ce83b3e049fb94e7d88d44f3c18c72dab831"
   }
  }
 },
 "nbformat": 4,
 "nbformat_minor": 2
}
